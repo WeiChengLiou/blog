{
 "metadata": {
  "name": "",
  "signature": "sha256:12dbff579ff6d7e7c3035ece5dbd7c9ab98a8c551ac6e5f8ea240742ef3cdf09"
 },
 "nbformat": 3,
 "nbformat_minor": 0,
 "worksheets": [
  {
   "cells": [
    {
     "cell_type": "code",
     "collapsed": false,
     "input": [
      "from IPython.core.display import HTML\n",
      "\n",
      "with open('creative_commons.txt', 'r') as f:\n",
      "    html = f.read()\n",
      "    \n",
      "with open('./styles/custom.css', 'r') as f:\n",
      "    styles = f.read()\n",
      "    \n",
      "HTML(styles)\n",
      "\n",
      "name = '2014-08-03-first_post'\n",
      "\n",
      "html = \"\"\"\n",
      "<small>\n",
      "<p> This post was written as an IPython notebook.  It is available for\n",
      "<a href=\"http://WeiChengLiou.github.com/blog/downloads/\n",
      "notebooks/%s.ipynb\">download</a>.</p>\n",
      "<p></p>\n",
      "%s \"\"\" % (name, html)\n",
      "\n",
      "import numpy as np\n",
      "from matplotlib import pylab as plt\n",
      "import matplotlib as mpl\n",
      "%matplotlib inline\n",
      "\n",
      "#mpl.rcParams['figure.figsize'] = 16., 12.\n",
      "#mpl.rcParams.update({'font.size': 22})\n",
      "\n"
     ],
     "language": "python",
     "metadata": {},
     "outputs": [],
     "prompt_number": 1
    },
    {
     "cell_type": "markdown",
     "metadata": {},
     "source": [
      "\u9019\u662f\u6211\u7b2c\u4e00\u6b21\u5229\u7528 Pelican \u67b6 blog\u3002\u611f\u8b1d\u8001\u5929\uff0c\u53ea\u82b1\u4e00\u500b\u65e9\u4e0a\u5c31\u628a\u96db\u578b\u5efa\u7f6e\u8d77\u4f86\u4e86\u3002\u6211\u4e3b\u8981\u662f\u53c3\u8003 [Blogging with the IPython Notebook](http://www.southampton.ac.uk/~fangohr/blog/blogging-with-the-ipython-notebook.html) \u8207 [Building this blog](http://ocefpaf.github.io/python4oceanographers/blog/2013/12/23/blog/) \u9019\u5169\u7bc7\u6587\u7ae0\u3002\u7c21\u55ae\u4f86\u8aaa\uff0c[Building this blog](http://ocefpaf.github.io/python4oceanographers/blog/2013/12/23/blog/) \u9019\u7bc7\u6587\u7ae0\u4f5c\u8005\u628a\u6574\u500b blog \u90fd\u653e\u5230 GitHub \u53bb\u4e86\uff0c\u6587\u5167\u8aaa\u660e\u50c5\u9700\u8981\u5148\u5b89\u88dd\u5fc5\u5099\u7684\u5957\u4ef6\uff08\u4f5c\u8005\u5efa\u8b70\u642d\u914d virtualenv \u4f7f\u7528\uff0c\u4f46\u6211\u662f\u7528 pyenv\uff09\uff0c\u5f9e GitHub clone \u4ed6\u7684 blog \u4e4b\u5f8c\uff0c\u7a0d\u4f5c\u4fee\u6539\u5373\u53ef\u4f7f\u7528\u3002\n",
      "\u8ddf GitHub \u7d50\u5408\u7684\u6700\u5927\u597d\u8655\u662f\u5099\u4efd\u8207\u7248\u672c\u63a7\u5236\uff0c\u6211\u81ea\u5df1\u6700\u8fd1\u4f5c\u7684\u4e00\u500b\u5c08\u6848\u5c31\u662f\u5229\u7528 BitBucket \u4f86\u5e6b\u5fd9\u4f5c\u7248\u672c\u63a7\u5236\uff0c\u9019\u6a23\u5c31\u4e0d\u7528\u5e36\u8457\u96a8\u8eab\u789f\u8dd1\u4f86\u8dd1\u53bb\u4e86\u3002\n",
      "\n",
      "Pelican \u7684\u6700\u5927\u597d\u8655\u662f\uff1a\u4ed6\u53ef\u4ee5\u8ddf IPython notebook \u4f5c\u5f88\u597d\u7684\u7d50\u5408\uff0c\u9019\u9ede\u5c0d\u65bc\u4f5c\u8cc7\u6599\u5206\u6790\u7684\u4eba\u800c\u8a00\u975e\u5e38\u597d\u7528\u3002\n",
      "\u73fe\u5728 IPython notebook \u8d8a\u4f5c\u8d8a\u5f37\u5927\u4e86\uff0c\u9084\u53ef\u4ee5\u8ddf Google doc \u7d50\u5408\u3002\n",
      "\u7528 IPython Notebook \u4f5c\u5206\u6790\u5831\u544a\u6216\u6559\u6848\uff0c\u7136\u5f8c\u914d\u5408 GitHub \u4f5c\u7248\u672c\u63a7\u5236\u3001\u6559\u6848\u5206\u4eab\u8207\u5c55\u793a\uff0c\u9019\u6a23\u5be6\u5728\u975e\u5e38\u5b8c\u7f8e\u3002\n",
      "\n",
      "\u672c\u7bc7\u6587\u7ae0\u662f\u5728 IPython notebook \u4e0a\u9762\u5b8c\u6210\u7684\uff0c\u63a5\u4e0b\u4f86\u6703\u4f5c\u4e9b\u6e2c\u8a66\uff0c\u4ee5\u78ba\u8a8d\u4e00\u4e9b\u5e38\u7528\u7684\u529f\u80fd\u662f\u5426\u80fd\u6b63\u5e38\u4f7f\u7528\u3002"
     ]
    },
    {
     "cell_type": "code",
     "collapsed": false,
     "input": [
      "font='AR PL KaitiM Big5'\n",
      "mpl.rcParams['font.sans-serif'] = font\n",
      "mpl.rc('font', family='sans-serif') \n",
      "mpl.rc('text', usetex='false') \n",
      "\n",
      "plt.plot(range(100), np.random.randn(100).cumsum())\n",
      "plt.title(u'\u4e2d\u6587\u6e2c\u8a66')"
     ],
     "language": "python",
     "metadata": {},
     "outputs": [
      {
       "metadata": {},
       "output_type": "pyout",
       "prompt_number": 2,
       "text": [
        "<matplotlib.text.Text at 0x7fd89f415f50>"
       ]
      },
      {
       "metadata": {},
       "output_type": "display_data",
       "png": "[encoded data removed]",
       "text": [
        "<matplotlib.figure.Figure at 0x7fd89f429d10>"
       ]
      }
     ],
     "prompt_number": 2
    },
    {
     "cell_type": "code",
     "collapsed": false,
     "input": [
      "from markdown import markdown\n",
      "\n",
      "html_url = 'http://weichengliou.github.io/blog/downloads/data/html/kmt_boss.html'\n",
      "markdown_str=u\"[\u53e6\u958b\u65b0\u9801]({0})\".format(unicode(html_url))\n",
      "HTML(markdown(markdown_str) +\\\n",
      "     u'<iframe height=\"600px\" width=\"100%\" src={0}></iframe>'.format(html_url))"
     ],
     "language": "python",
     "metadata": {},
     "outputs": [
      {
       "html": [
        "<p><a href=\"http://weichengliou.github.io/blog/downloads/data/html/kmt_boss.html\">\u53e6\u958b\u65b0\u9801</a></p><iframe height=\"600px\" width=\"100%\" src=http://weichengliou.github.io/blog/downloads/data/html/kmt_boss.html></iframe>"
       ],
       "metadata": {},
       "output_type": "pyout",
       "prompt_number": 3,
       "text": [
        "<IPython.core.display.HTML at 0x7fd89e6a8f90>"
       ]
      }
     ],
     "prompt_number": 3
    },
    {
     "cell_type": "markdown",
     "metadata": {},
     "source": [
      "\u57fa\u672c\u4e0a\u53ef\u4ee5\u756b\u5716\u3001\u53ef\u4ee5\u986f\u793a\u4e2d\u6587\uff08\u4f46\u662f\u9700\u8981\u8a2d\u5b9a\u5b57\u9ad4\uff09\uff0c\u53ef\u4ee5\u8a2d\u5b9a\u8d85\u9023\u7d50\u3002\n",
      "\n",
      "\u5927\u81f4\u4e0a\u53ef\u4ee5\u958b\u59cb\u5beb\u6587\u7ae0\u4e86\uff01"
     ]
    },
    {
     "cell_type": "code",
     "collapsed": false,
     "input": [
      "HTML(html)"
     ],
     "language": "python",
     "metadata": {},
     "outputs": [
      {
       "html": [
        "\n",
        "<small>\n",
        "<p> This post was written as an IPython notebook.  It is available for\n",
        "<a href=\"http://WeiChengLiou.github.com/blog/downloads/\n",
        "notebooks/2014-08-03-first_post.ipynb\">download</a>.</p>\n",
        "<p></p>\n",
        "<a rel=\"license\" href=\"http://creativecommons.org/licenses/by-sa/4.0/\"><img\n",
        "alt=\"Creative Commons License\" style=\"border-width:0\"\n",
        "src=\"http://i.creativecommons.org/l/by-sa/4.0/88x31.png\" /></a><br /><span\n",
        "xmlns:dct=\"http://purl.org/dc/terms/\"\n",
        "property=\"dct:title\">Gilbert's Data Lab</span> by <a\n",
        "xmlns:cc=\"http://creativecommons.org/ns#\" href=\"http://WeiChengLiou.github.io/\"\n",
        "property=\"cc:attributionName\" rel=\"cc:attributionURL\">WeiCheng Liou</a> is\n",
        "licensed under a <a rel=\"license\"\n",
        "href=\"http://creativecommons.org/licenses/by-sa/4.0/\">Creative Commons\n",
        "Attribution-ShareAlike 4.0 International License</a>.<br />Based on a work at <a\n",
        "xmlns:dct=\"http://purl.org/dc/terms/\" href=\"http://WeiChengLiou.github.io/\"\n",
        "rel=\"dct:source\">http://WeiChengLiou.github.io/</a>.\n",
        " "
       ],
       "metadata": {},
       "output_type": "pyout",
       "prompt_number": 4,
       "text": [
        "<IPython.core.display.HTML at 0x7fd8b8c4f550>"
       ]
      }
     ],
     "prompt_number": 4
    }
   ],
   "metadata": {}
  }
 ]
}